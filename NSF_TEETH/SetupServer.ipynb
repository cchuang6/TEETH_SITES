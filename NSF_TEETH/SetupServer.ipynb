{
 "metadata": {
  "name": "",
  "signature": "sha256:3901d4db5de7d00c4d925741b7e264acbb9838cfe20604a8f9a6f49e2b10cbaa"
 },
 "nbformat": 3,
 "nbformat_minor": 0,
 "worksheets": [
  {
   "cells": [
    {
     "cell_type": "code",
     "collapsed": false,
     "input": [
      "#sudo apt-get install apache2 apache2-utils libexpat1 ssl-cert\n",
      "#sudo apt-get install postgis\n",
      "#sudo apt-get install psycopg2\n",
      "#sudo apt-get install binutils libproj-dev gdal-bin\n",
      "#sudo apt-get install libgeoip1 gdal-bin python-gdal\n",
      "#cd ~/TEETH*/NSF*\n",
      "#sudo apt-get install build-dep psycopg2\n",
      "#sudo pip install -r requirements.txt"
     ],
     "language": "python",
     "metadata": {},
     "outputs": [],
     "prompt_number": 2
    },
    {
     "cell_type": "markdown",
     "metadata": {},
     "source": [
      "Run the next cell to check that you can access your local machine"
     ]
    },
    {
     "cell_type": "code",
     "collapsed": false,
     "input": [
      "from IPython.display import IFrame\n",
      "IFrame('http://localhost/', width=700, height=150)"
     ],
     "language": "python",
     "metadata": {},
     "outputs": [
      {
       "html": [
        "\n",
        "        <iframe\n",
        "            width=\"700\"\n",
        "            height=150\"\n",
        "            src=\"http://localhost/\"\n",
        "            frameborder=\"0\"\n",
        "            allowfullscreen\n",
        "        ></iframe>\n",
        "        "
       ],
       "metadata": {},
       "output_type": "pyout",
       "prompt_number": 7,
       "text": [
        "<IPython.lib.display.IFrame at 0x44745d0>"
       ]
      }
     ],
     "prompt_number": 7
    },
    {
     "cell_type": "markdown",
     "metadata": {},
     "source": [
      "Install the python (mod_wsgi) module"
     ]
    },
    {
     "cell_type": "code",
     "collapsed": false,
     "input": [
      "#sudo apt-get install libapache2-mod-wsgi"
     ],
     "language": "python",
     "metadata": {},
     "outputs": [],
     "prompt_number": 3
    },
    {
     "cell_type": "code",
     "collapsed": false,
     "input": [
      "%%bash\n",
      "sudo service apache2 restart"
     ],
     "language": "python",
     "metadata": {},
     "outputs": [
      {
       "output_type": "stream",
       "stream": "stdout",
       "text": [
        " * Restarting web server apache2\n",
        "   ...done.\n"
       ]
      },
      {
       "output_type": "stream",
       "stream": "stderr",
       "text": [
        "AH00558: apache2: Could not reliably determine the server's fully qualified domain name, using 127.0.1.1. Set the 'ServerName' directive globally to suppress this message\n"
       ]
      }
     ],
     "prompt_number": 14
    },
    {
     "cell_type": "markdown",
     "metadata": {},
     "source": [
      "Verify that apache still works"
     ]
    },
    {
     "cell_type": "code",
     "collapsed": false,
     "input": [
      "IFrame('http://localhost/', width=700, height=150)"
     ],
     "language": "python",
     "metadata": {},
     "outputs": [
      {
       "html": [
        "\n",
        "        <iframe\n",
        "            width=\"700\"\n",
        "            height=150\"\n",
        "            src=\"http://localhost/\"\n",
        "            frameborder=\"0\"\n",
        "            allowfullscreen\n",
        "        ></iframe>\n",
        "        "
       ],
       "metadata": {},
       "output_type": "pyout",
       "prompt_number": 16,
       "text": [
        "<IPython.lib.display.IFrame at 0x4474490>"
       ]
      }
     ],
     "prompt_number": 16
    },
    {
     "cell_type": "code",
     "collapsed": false,
     "input": [
      "%%bash\n",
      "cd ~/public_html/\n",
      "mkdir -p domain1.com\n",
      "cd ./domain1.com"
     ],
     "language": "python",
     "metadata": {},
     "outputs": [],
     "prompt_number": 86
    },
    {
     "cell_type": "code",
     "collapsed": false,
     "input": [
      "%cd ~/public_html/domain1.com"
     ],
     "language": "python",
     "metadata": {},
     "outputs": [
      {
       "output_type": "stream",
       "stream": "stdout",
       "text": [
        "/home/john/public_html/domain1.com\n"
       ]
      }
     ],
     "prompt_number": 87
    },
    {
     "cell_type": "code",
     "collapsed": false,
     "input": [
      "%%bash\n",
      "django-admin startproject MyTestProject"
     ],
     "language": "python",
     "metadata": {},
     "outputs": [
      {
       "output_type": "stream",
       "stream": "stderr",
       "text": [
        "Traceback (most recent call last):\n",
        "  File \"/usr/bin/django-admin\", line 5, in <module>\n",
        "    management.execute_from_command_line()\n",
        "  File \"/usr/lib/python2.7/dist-packages/django/core/management/__init__.py\", line 453, in execute_from_command_line\n",
        "    utility.execute()\n",
        "  File \"/usr/lib/python2.7/dist-packages/django/core/management/__init__.py\", line 392, in execute\n",
        "    self.fetch_command(subcommand).run_from_argv(self.argv)\n",
        "  File \"/usr/lib/python2.7/dist-packages/django/core/management/__init__.py\", line 263, in fetch_command\n",
        "    app_name = get_commands()[subcommand]\n",
        "  File \"/usr/lib/python2.7/dist-packages/django/core/management/__init__.py\", line 109, in get_commands\n",
        "    apps = settings.INSTALLED_APPS\n",
        "  File \"/usr/lib/python2.7/dist-packages/django/conf/__init__.py\", line 53, in __getattr__\n",
        "    self._setup(name)\n",
        "  File \"/usr/lib/python2.7/dist-packages/django/conf/__init__.py\", line 48, in _setup\n",
        "    self._wrapped = Settings(settings_module)\n",
        "  File \"/usr/lib/python2.7/dist-packages/django/conf/__init__.py\", line 134, in __init__\n",
        "    raise ImportError(\"Could not import settings '%s' (Is it on sys.path?): %s\" % (self.SETTINGS_MODULE, e))\n",
        "ImportError: Could not import settings 'MyTestProject.settings' (Is it on sys.path?): No module named MyTestProject.settings\n"
       ]
      }
     ],
     "prompt_number": 88
    },
    {
     "cell_type": "code",
     "collapsed": false,
     "input": [],
     "language": "python",
     "metadata": {},
     "outputs": []
    },
    {
     "cell_type": "code",
     "collapsed": false,
     "input": [
      "%%writefile apache.conf\n",
      "\n",
      "<VirtualHost *:80>\n",
      "        ServerName teeth.com\n",
      "        ServerAlias www.teeth.com\n",
      "        WSGIScriptAlias / /home/john/public_html/teeth.com/TEETH_SITES/NSF_TEETH/teeth.wsgi\n",
      "        Alias /static/ /home/username/public_html/domain1.com/static/\n",
      "        <Location \"/static/\">\n",
      "            Options -Indexes\n",
      "        </Location>\n",
      "</VirtualHost>"
     ],
     "language": "python",
     "metadata": {},
     "outputs": [
      {
       "output_type": "stream",
       "stream": "stdout",
       "text": [
        "Overwriting apache.conf\n"
       ]
      }
     ],
     "prompt_number": 99
    },
    {
     "cell_type": "code",
     "collapsed": false,
     "input": [
      "%%bash\n",
      "sudo cp apache.conf /etc/apache2/sites-available/teeth.com.conf\n",
      "sudo chmod 755 /etc/apache2/sites-available/teeth.com.conf"
     ],
     "language": "python",
     "metadata": {},
     "outputs": [],
     "prompt_number": 100
    },
    {
     "cell_type": "code",
     "collapsed": false,
     "input": [
      "ls -l /etc/apache2/sites-available/teeth.com.conf"
     ],
     "language": "python",
     "metadata": {},
     "outputs": [
      {
       "output_type": "stream",
       "stream": "stdout",
       "text": [
        "-rwxr-xr-x 1 root root 338 Apr 11 16:37 \u001b[0m\u001b[01;32m/etc/apache2/sites-available/teeth.com.conf\u001b[0m*\r\n"
       ]
      }
     ],
     "prompt_number": 101
    },
    {
     "cell_type": "code",
     "collapsed": false,
     "input": [
      "%%writefile teeth.wsgi\n",
      "\n",
      "import os\n",
      "import sys\n",
      "sys.path.append('/home/john/public_html/teeth.com/TEETH_SITES/NSF_TEETH')\n",
      "os.environ['DJANGO_SETTINGS_MODULE'] = 'teeth.settings'\n",
      "import django.core.handlers.wsgi\n",
      "application = django.core.handlers.wsgi.WSGIHandler()"
     ],
     "language": "python",
     "metadata": {},
     "outputs": [
      {
       "output_type": "stream",
       "stream": "stdout",
       "text": [
        "Writing teeth.wsgi\n"
       ]
      }
     ],
     "prompt_number": 96
    },
    {
     "cell_type": "code",
     "collapsed": false,
     "input": [
      "%%bash\n",
      "#Enable virtual hosts and restart apache\n",
      "sudo a2ensite teeth.com"
     ],
     "language": "python",
     "metadata": {},
     "outputs": [
      {
       "output_type": "stream",
       "stream": "stdout",
       "text": [
        "Site teeth.com already enabled\n"
       ]
      }
     ],
     "prompt_number": 102
    },
    {
     "cell_type": "code",
     "collapsed": false,
     "input": [
      "%%bash\n",
      "service apache2 reload"
     ],
     "language": "python",
     "metadata": {},
     "outputs": [
      {
       "output_type": "stream",
       "stream": "stdout",
       "text": [
        " * Reloading web server apache2\n",
        " * \n"
       ]
      }
     ],
     "prompt_number": 103
    },
    {
     "cell_type": "code",
     "collapsed": false,
     "input": [
      "IFrame('http://127.0.1.1:80', width=700, height=150)"
     ],
     "language": "python",
     "metadata": {},
     "outputs": [
      {
       "html": [
        "\n",
        "        <iframe\n",
        "            width=\"700\"\n",
        "            height=150\"\n",
        "            src=\"http://127.0.1.1:80\"\n",
        "            frameborder=\"0\"\n",
        "            allowfullscreen\n",
        "        ></iframe>\n",
        "        "
       ],
       "metadata": {},
       "output_type": "pyout",
       "prompt_number": 111,
       "text": [
        "<IPython.lib.display.IFrame at 0x449f1d0>"
       ]
      }
     ],
     "prompt_number": 111
    },
    {
     "cell_type": "code",
     "collapsed": false,
     "input": [],
     "language": "python",
     "metadata": {},
     "outputs": []
    }
   ],
   "metadata": {}
  }
 ]
}